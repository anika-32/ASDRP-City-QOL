{
 "cells": [
  {
   "cell_type": "code",
   "execution_count": 28,
   "id": "53f5d00c",
   "metadata": {},
   "outputs": [
    {
     "name": "stdout",
     "output_type": "stream",
     "text": [
      "Libraries Imported\n"
     ]
    }
   ],
   "source": [
    "#Importing Libraries\n",
    "\n",
    "import numpy as np\n",
    "import pandas as pd\n",
    "from sklearn.model_selection import train_test_split\n",
    "from sklearn.preprocessing import StandardScaler\n",
    "from sklearn.ensemble import RandomForestClassifier\n",
    "from sklearn.metrics import confusion_matrix\n",
    "import joblib\n",
    "\n",
    "print('Libraries Imported')"
   ]
  },
  {
   "cell_type": "code",
   "execution_count": 29,
   "id": "bd55601a",
   "metadata": {},
   "outputs": [
    {
     "name": "stdout",
     "output_type": "stream",
     "text": [
      "      0   1       2         3     4       5       6         7       8       9\n",
      "0   5.9  40  10.523  1761.768  86.0  107000  25.629  3188.474  629516    High\n",
      "1   4.5  58  23.643   820.312  86.1   30225  21.044  8002.078  890194  Medium\n",
      "2   4.8  58  40.786  1901.096  84.0   33924  30.033  9373.749  234951    High\n",
      "3   3.8  20  78.671  1401.421  75.4   30438  15.278  5244.755  344900  Medium\n",
      "4   2.7  35  32.000  2358.754  81.0   31821   9.846   332.923  450000  Medium\n",
      "..  ...  ..     ...       ...   ...     ...     ...       ...     ...     ...\n",
      "75  3.9   1  14.178  1360.890  76.7   28172   9.452  3076.559  502192     Low\n",
      "76  3.3  45   4.745  1240.800  98.0   30477  14.234  3999.791  589428  Medium\n",
      "77  3.3  29  15.191  2275.900  89.4   26564  33.446   627.896  145324    High\n",
      "78  2.9  17  85.468  1954.260  68.2   23797  52.230   180.431  150100     Low\n",
      "79  4.8  32  14.369  1806.120  84.0   26985   4.790  1230.973  186204  Medium\n",
      "\n",
      "[80 rows x 10 columns]\n"
     ]
    }
   ],
   "source": [
    "#creating the data set without any header\n",
    "dataset = pd.read_csv('asdrp_factors_aj.csv', header = None)\n",
    "print (dataset)"
   ]
  },
  {
   "cell_type": "code",
   "execution_count": 30,
   "id": "d3cda4aa",
   "metadata": {},
   "outputs": [
    {
     "name": "stdout",
     "output_type": "stream",
     "text": [
      "Shape of the dataset: (80, 10)\n",
      "   Unemployment Rate  Air Quality  Number of Hospitals  Number of Schools  \\\n",
      "0                5.9           40               10.523           1761.768   \n",
      "1                4.5           58               23.643            820.312   \n",
      "2                4.8           58               40.786           1901.096   \n",
      "3                3.8           20               78.671           1401.421   \n",
      "4                2.7           35               32.000           2358.754   \n",
      "\n",
      "   Hs Grad Rate  Individual Income  Number of libraries  \\\n",
      "0          86.0             107000               25.629   \n",
      "1          86.1              30225               21.044   \n",
      "2          84.0              33924               30.033   \n",
      "3          75.4              30438               15.278   \n",
      "4          81.0              31821                9.846   \n",
      "\n",
      "   Number of Restauarants  House Cost  Rating  \n",
      "0                3188.474      629516    High  \n",
      "1                8002.078      890194  Medium  \n",
      "2                9373.749      234951    High  \n",
      "3                5244.755      344900  Medium  \n",
      "4                 332.923      450000  Medium  \n"
     ]
    }
   ],
   "source": [
    "#re-adding the columns but with spaces\n",
    "dataset.columns = ['Unemployment Rate', 'Air Quality','Number of Hospitals','Number of Schools','Hs Grad Rate','Individual Income', 'Number of libraries', 'Number of Restauarants', 'House Cost' , 'Rating']\n",
    "print('Shape of the dataset: ' + str(dataset.shape))\n",
    "print(dataset.head())"
   ]
  },
  {
   "cell_type": "code",
   "execution_count": 31,
   "id": "df9c79a3",
   "metadata": {
    "scrolled": true
   },
   "outputs": [
    {
     "name": "stdout",
     "output_type": "stream",
     "text": [
      "0    0\n",
      "1    1\n",
      "2    0\n",
      "3    1\n",
      "4    1\n",
      "Name: Rating, dtype: int64\n",
      "Index(['High', 'Medium', 'Low'], dtype='object')\n"
     ]
    }
   ],
   "source": [
    "#Creating the dependent variable class\n",
    "factor = pd.factorize(dataset['Rating'])\n",
    "dataset.Rating = factor[0]\n",
    "definitions = factor[1]\n",
    "print(dataset.Rating.head())\n",
    "print(definitions)"
   ]
  },
  {
   "cell_type": "code",
   "execution_count": 32,
   "id": "9e5e8de4",
   "metadata": {
    "scrolled": true
   },
   "outputs": [
    {
     "name": "stdout",
     "output_type": "stream",
     "text": [
      "The independent features set: \n",
      "[[5.900000e+00 4.000000e+01 1.052300e+01 1.761768e+03 8.600000e+01\n",
      "  1.070000e+05 2.562900e+01 3.188474e+03 6.295160e+05]\n",
      " [4.500000e+00 5.800000e+01 2.364300e+01 8.203120e+02 8.610000e+01\n",
      "  3.022500e+04 2.104400e+01 8.002078e+03 8.901940e+05]\n",
      " [4.800000e+00 5.800000e+01 4.078600e+01 1.901096e+03 8.400000e+01\n",
      "  3.392400e+04 3.003300e+01 9.373749e+03 2.349510e+05]\n",
      " [3.800000e+00 2.000000e+01 7.867100e+01 1.401421e+03 7.540000e+01\n",
      "  3.043800e+04 1.527800e+01 5.244755e+03 3.449000e+05]\n",
      " [2.700000e+00 3.500000e+01 3.200000e+01 2.358754e+03 8.100000e+01\n",
      "  3.182100e+04 9.846000e+00 3.329230e+02 4.500000e+05]\n",
      " [4.200000e+00 7.500000e+01 3.870600e+01 1.748435e+03 7.500000e+01\n",
      "  2.733100e+04 3.172600e+01 8.008249e+03 2.500000e+05]\n",
      " [3.200000e+00 6.800000e+01 1.033100e+01 2.161478e+03 8.070000e+01\n",
      "  2.693400e+04 1.997200e+01 1.377410e+02 2.577750e+05]\n",
      " [2.700000e+00 4.000000e+00 1.302500e+01 4.697550e+02 8.700000e+01\n",
      "  3.850300e+04 2.532700e+01 5.065123e+03 7.970000e+05]\n",
      " [3.400000e+00 2.000000e+00 6.987600e+01 1.494856e+03 7.420000e+01\n",
      "  3.197500e+04 2.174000e+01 5.940994e+03 3.310000e+05]\n",
      " [2.100000e+00 4.000000e+00 2.847000e+01 1.531170e+03 8.230000e+01\n",
      "  4.293800e+04 2.542000e+01 1.992900e+02 1.130000e+06]]\n",
      "The dependent variable: \n",
      "[0 1 0 1 1 1 0 0 0 1]\n"
     ]
    }
   ],
   "source": [
    "X = dataset.iloc[:,0:9].values\n",
    "y = dataset.iloc[:,9].values\n",
    "print('The independent features set: ')\n",
    "print(X[:10,:])\n",
    "print('The dependent variable: ')\n",
    "print(y[:10])"
   ]
  },
  {
   "cell_type": "code",
   "execution_count": 33,
   "id": "f39fdb65",
   "metadata": {},
   "outputs": [],
   "source": [
    "# Creating the Training and Test set from data\n",
    "X_train, X_test, y_train, y_test = train_test_split(X, y, test_size = 0.25, random_state = 21)"
   ]
  },
  {
   "cell_type": "code",
   "execution_count": 34,
   "id": "52feea9b",
   "metadata": {
    "scrolled": false
   },
   "outputs": [
    {
     "data": {
      "text/html": [
       "<style>#sk-container-id-3 {color: black;background-color: white;}#sk-container-id-3 pre{padding: 0;}#sk-container-id-3 div.sk-toggleable {background-color: white;}#sk-container-id-3 label.sk-toggleable__label {cursor: pointer;display: block;width: 100%;margin-bottom: 0;padding: 0.3em;box-sizing: border-box;text-align: center;}#sk-container-id-3 label.sk-toggleable__label-arrow:before {content: \"▸\";float: left;margin-right: 0.25em;color: #696969;}#sk-container-id-3 label.sk-toggleable__label-arrow:hover:before {color: black;}#sk-container-id-3 div.sk-estimator:hover label.sk-toggleable__label-arrow:before {color: black;}#sk-container-id-3 div.sk-toggleable__content {max-height: 0;max-width: 0;overflow: hidden;text-align: left;background-color: #f0f8ff;}#sk-container-id-3 div.sk-toggleable__content pre {margin: 0.2em;color: black;border-radius: 0.25em;background-color: #f0f8ff;}#sk-container-id-3 input.sk-toggleable__control:checked~div.sk-toggleable__content {max-height: 200px;max-width: 100%;overflow: auto;}#sk-container-id-3 input.sk-toggleable__control:checked~label.sk-toggleable__label-arrow:before {content: \"▾\";}#sk-container-id-3 div.sk-estimator input.sk-toggleable__control:checked~label.sk-toggleable__label {background-color: #d4ebff;}#sk-container-id-3 div.sk-label input.sk-toggleable__control:checked~label.sk-toggleable__label {background-color: #d4ebff;}#sk-container-id-3 input.sk-hidden--visually {border: 0;clip: rect(1px 1px 1px 1px);clip: rect(1px, 1px, 1px, 1px);height: 1px;margin: -1px;overflow: hidden;padding: 0;position: absolute;width: 1px;}#sk-container-id-3 div.sk-estimator {font-family: monospace;background-color: #f0f8ff;border: 1px dotted black;border-radius: 0.25em;box-sizing: border-box;margin-bottom: 0.5em;}#sk-container-id-3 div.sk-estimator:hover {background-color: #d4ebff;}#sk-container-id-3 div.sk-parallel-item::after {content: \"\";width: 100%;border-bottom: 1px solid gray;flex-grow: 1;}#sk-container-id-3 div.sk-label:hover label.sk-toggleable__label {background-color: #d4ebff;}#sk-container-id-3 div.sk-serial::before {content: \"\";position: absolute;border-left: 1px solid gray;box-sizing: border-box;top: 0;bottom: 0;left: 50%;z-index: 0;}#sk-container-id-3 div.sk-serial {display: flex;flex-direction: column;align-items: center;background-color: white;padding-right: 0.2em;padding-left: 0.2em;position: relative;}#sk-container-id-3 div.sk-item {position: relative;z-index: 1;}#sk-container-id-3 div.sk-parallel {display: flex;align-items: stretch;justify-content: center;background-color: white;position: relative;}#sk-container-id-3 div.sk-item::before, #sk-container-id-3 div.sk-parallel-item::before {content: \"\";position: absolute;border-left: 1px solid gray;box-sizing: border-box;top: 0;bottom: 0;left: 50%;z-index: -1;}#sk-container-id-3 div.sk-parallel-item {display: flex;flex-direction: column;z-index: 1;position: relative;background-color: white;}#sk-container-id-3 div.sk-parallel-item:first-child::after {align-self: flex-end;width: 50%;}#sk-container-id-3 div.sk-parallel-item:last-child::after {align-self: flex-start;width: 50%;}#sk-container-id-3 div.sk-parallel-item:only-child::after {width: 0;}#sk-container-id-3 div.sk-dashed-wrapped {border: 1px dashed gray;margin: 0 0.4em 0.5em 0.4em;box-sizing: border-box;padding-bottom: 0.4em;background-color: white;}#sk-container-id-3 div.sk-label label {font-family: monospace;font-weight: bold;display: inline-block;line-height: 1.2em;}#sk-container-id-3 div.sk-label-container {text-align: center;}#sk-container-id-3 div.sk-container {/* jupyter's `normalize.less` sets `[hidden] { display: none; }` but bootstrap.min.css set `[hidden] { display: none !important; }` so we also need the `!important` here to be able to override the default hidden behavior on the sphinx rendered scikit-learn.org. See: https://github.com/scikit-learn/scikit-learn/issues/21755 */display: inline-block !important;position: relative;}#sk-container-id-3 div.sk-text-repr-fallback {display: none;}</style><div id=\"sk-container-id-3\" class=\"sk-top-container\"><div class=\"sk-text-repr-fallback\"><pre>RandomForestClassifier(criterion=&#x27;entropy&#x27;, n_estimators=10, random_state=42)</pre><b>In a Jupyter environment, please rerun this cell to show the HTML representation or trust the notebook. <br />On GitHub, the HTML representation is unable to render, please try loading this page with nbviewer.org.</b></div><div class=\"sk-container\" hidden><div class=\"sk-item\"><div class=\"sk-estimator sk-toggleable\"><input class=\"sk-toggleable__control sk-hidden--visually\" id=\"sk-estimator-id-3\" type=\"checkbox\" checked><label for=\"sk-estimator-id-3\" class=\"sk-toggleable__label sk-toggleable__label-arrow\">RandomForestClassifier</label><div class=\"sk-toggleable__content\"><pre>RandomForestClassifier(criterion=&#x27;entropy&#x27;, n_estimators=10, random_state=42)</pre></div></div></div></div></div>"
      ],
      "text/plain": [
       "RandomForestClassifier(criterion='entropy', n_estimators=10, random_state=42)"
      ]
     },
     "execution_count": 34,
     "metadata": {},
     "output_type": "execute_result"
    }
   ],
   "source": [
    "# Fitting Random Forest Classification to the Training set\n",
    "classifier = RandomForestClassifier(n_estimators = 10, criterion = 'entropy', random_state = 42)\n",
    "classifier.fit(X_train, y_train)"
   ]
  },
  {
   "cell_type": "code",
   "execution_count": 35,
   "id": "fec5b979",
   "metadata": {},
   "outputs": [
    {
     "name": "stdout",
     "output_type": "stream",
     "text": [
      "Predicted Quality of Life  High  Low  Medium\n",
      "Actual Quality of Life                      \n",
      "High                         11    1       0\n",
      "Medium                        5    0       3\n"
     ]
    }
   ],
   "source": [
    "# Predicting the Test set results\n",
    "y_pred = classifier.predict(X_test)\n",
    "#Reverse factorize (converting y_pred from 0s,1s and 2s to high, medium, low\n",
    "reversefactor = dict(zip(range(3),definitions))\n",
    "y_test = np.vectorize(reversefactor.get)(y_test)\n",
    "y_pred = np.vectorize(reversefactor.get)(y_pred)\n",
    "# Making the Confusion Matrix\n",
    "print(pd.crosstab(y_test, y_pred, rownames=['Actual Quality of Life'], colnames=['Predicted Quality of Life']))"
   ]
  },
  {
   "cell_type": "code",
   "execution_count": 36,
   "id": "d8964059",
   "metadata": {},
   "outputs": [
    {
     "name": "stdout",
     "output_type": "stream",
     "text": [
      "[('Unemployment Rate', 0.09571463426371997), ('Air Quality', 0.07538945541293877), ('Number of Hospitals', 0.08403512357612113), ('Number of Schools', 0.15741429310520275)]\n"
     ]
    },
    {
     "data": {
      "text/plain": [
       "['randomforestmodel.pkl']"
      ]
     },
     "execution_count": 36,
     "metadata": {},
     "output_type": "execute_result"
    }
   ],
   "source": [
    "print(list(zip(dataset.columns[0:4], classifier.feature_importances_)))\n",
    "joblib.dump(classifier, 'randomforestmodel.pkl') "
   ]
  }
 ],
 "metadata": {
  "kernelspec": {
   "display_name": "Python 3 (ipykernel)",
   "language": "python",
   "name": "python3"
  },
  "language_info": {
   "codemirror_mode": {
    "name": "ipython",
    "version": 3
   },
   "file_extension": ".py",
   "mimetype": "text/x-python",
   "name": "python",
   "nbconvert_exporter": "python",
   "pygments_lexer": "ipython3",
   "version": "3.10.9"
  }
 },
 "nbformat": 4,
 "nbformat_minor": 5
}
